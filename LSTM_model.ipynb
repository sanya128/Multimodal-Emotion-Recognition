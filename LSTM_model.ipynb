{
  "cells": [
    {
      "cell_type": "markdown",
      "metadata": {
        "id": "view-in-github",
        "colab_type": "text"
      },
      "source": [
        "<a href=\"https://colab.research.google.com/github/sanya128/Multimodal-Emotion-Recognition/blob/main/LSTM_model.ipynb\" target=\"_parent\"><img src=\"https://colab.research.google.com/assets/colab-badge.svg\" alt=\"Open In Colab\"/></a>"
      ]
    },
    {
      "cell_type": "code",
      "execution_count": null,
      "metadata": {
        "id": "xO7HST_jjodM",
        "colab": {
          "base_uri": "https://localhost:8080/"
        },
        "outputId": "92439537-01c3-4488-9199-08a71a96293d"
      },
      "outputs": [
        {
          "output_type": "stream",
          "name": "stdout",
          "text": [
            "Drive already mounted at /content/gdrive/; to attempt to forcibly remount, call drive.mount(\"/content/gdrive/\", force_remount=True).\n",
            "extracted_text.txt  LSTM_new.ipynb\t  SentimentAnalyser_old.h5  text_emotion.npy\n",
            "LSTM_model.ipynb    SentimentAnalyser.h5  text_emotion.csv\n"
          ]
        }
      ],
      "source": [
        "from google.colab import drive\n",
        "drive.mount(\"/content/gdrive/\")\n",
        "import os\n",
        "os.chdir(\"/content/gdrive/My Drive/MultimodalEmotion/MODULE3\")\n",
        "!ls"
      ]
    },
    {
      "cell_type": "code",
      "execution_count": null,
      "metadata": {
        "id": "rbTFCCmSkBzV"
      },
      "outputs": [],
      "source": [
        "#%cd drive/MyDrive/\"Colab Notebooks\"\n",
        "#!ls"
      ]
    },
    {
      "cell_type": "markdown",
      "metadata": {
        "id": "KsGF6XS2sxFg"
      },
      "source": [
        "<h1>Importing <b>NLTK Library</b> </h1>"
      ]
    },
    {
      "cell_type": "code",
      "execution_count": null,
      "metadata": {
        "id": "10yC_FWgvXt2",
        "colab": {
          "base_uri": "https://localhost:8080/"
        },
        "outputId": "9a252e69-1ea2-4f1d-952c-dde9d8909c38"
      },
      "outputs": [
        {
          "output_type": "stream",
          "name": "stderr",
          "text": [
            "[nltk_data] Downloading package punkt to /root/nltk_data...\n",
            "[nltk_data]   Unzipping tokenizers/punkt.zip.\n",
            "[nltk_data] Downloading package stopwords to /root/nltk_data...\n",
            "[nltk_data]   Unzipping corpora/stopwords.zip.\n",
            "[nltk_data] Downloading package wordnet to /root/nltk_data...\n",
            "[nltk_data] Downloading package omw-1.4 to /root/nltk_data...\n",
            "[nltk_data] Downloading package averaged_perceptron_tagger to\n",
            "[nltk_data]     /root/nltk_data...\n",
            "[nltk_data]   Unzipping taggers/averaged_perceptron_tagger.zip.\n",
            "[nltk_data] Downloading package punkt_tab to /root/nltk_data...\n",
            "[nltk_data]   Unzipping tokenizers/punkt_tab.zip.\n"
          ]
        },
        {
          "output_type": "execute_result",
          "data": {
            "text/plain": [
              "True"
            ]
          },
          "metadata": {},
          "execution_count": 4
        }
      ],
      "source": [
        "import nltk\n",
        "#nltk.download()\n",
        "nltk.download('punkt')\n",
        "nltk.download('stopwords')\n",
        "nltk.download('wordnet')\n",
        "nltk.download('omw-1.4')\n",
        "nltk.download('averaged_perceptron_tagger')\n",
        "nltk.download('punkt_tab')"
      ]
    },
    {
      "cell_type": "code",
      "execution_count": null,
      "metadata": {
        "id": "Cllc1ctLkcCJ"
      },
      "outputs": [],
      "source": [
        "import nltk\n",
        "from nltk.tokenize import sent_tokenize, word_tokenize\n",
        "from nltk.corpus import stopwords\n",
        "from nltk.stem import PorterStemmer\n",
        "from nltk.stem.wordnet import WordNetLemmatizer"
      ]
    },
    {
      "cell_type": "markdown",
      "metadata": {
        "id": "67ikq6PKtP-b"
      },
      "source": [
        "<h2>Importing Necessary Libraries</h2>"
      ]
    },
    {
      "cell_type": "code",
      "source": [
        "!pip install Keras-Preprocessing"
      ],
      "metadata": {
        "colab": {
          "base_uri": "https://localhost:8080/"
        },
        "id": "zGrlJdCRwRqb",
        "outputId": "1cbe4666-b0c8-4949-b73b-29f3207acaa3"
      },
      "execution_count": null,
      "outputs": [
        {
          "output_type": "stream",
          "name": "stdout",
          "text": [
            "Collecting Keras-Preprocessing\n",
            "  Downloading Keras_Preprocessing-1.1.2-py2.py3-none-any.whl.metadata (1.9 kB)\n",
            "Requirement already satisfied: numpy>=1.9.1 in /usr/local/lib/python3.11/dist-packages (from Keras-Preprocessing) (1.26.4)\n",
            "Requirement already satisfied: six>=1.9.0 in /usr/local/lib/python3.11/dist-packages (from Keras-Preprocessing) (1.17.0)\n",
            "Downloading Keras_Preprocessing-1.1.2-py2.py3-none-any.whl (42 kB)\n",
            "\u001b[2K   \u001b[90m━━━━━━━━━━━━━━━━━━━━━━━━━━━━━━━━━━━━━━━━\u001b[0m \u001b[32m42.6/42.6 kB\u001b[0m \u001b[31m1.3 MB/s\u001b[0m eta \u001b[36m0:00:00\u001b[0m\n",
            "\u001b[?25hInstalling collected packages: Keras-Preprocessing\n",
            "Successfully installed Keras-Preprocessing-1.1.2\n"
          ]
        }
      ]
    },
    {
      "cell_type": "code",
      "execution_count": null,
      "metadata": {
        "id": "PjvxuVzbkj6m"
      },
      "outputs": [],
      "source": [
        "import pandas as pd\n",
        "import numpy as np\n",
        "from tensorflow.keras.preprocessing.sequence import pad_sequences\n",
        "from tensorflow.keras.preprocessing.text import Tokenizer\n",
        "from sklearn.model_selection import train_test_split\n",
        "from keras.models import Sequential\n",
        "from keras.layers import Dense, Dropout, Embedding, LSTM, SpatialDropout1D"
      ]
    },
    {
      "cell_type": "code",
      "execution_count": null,
      "metadata": {
        "colab": {
          "base_uri": "https://localhost:8080/"
        },
        "id": "Tu_wZ869kpGg",
        "outputId": "df7be330-c2d9-47f6-fc36-51ee63b7b6ae"
      },
      "outputs": [
        {
          "output_type": "stream",
          "name": "stdout",
          "text": [
            "(7516, 2)\n"
          ]
        }
      ],
      "source": [
        "#loading text emotion dataset\n",
        "data = pd.read_csv('text_emotion.csv')\n",
        "\n",
        "print(data.shape)\n",
        "\n",
        "#removing unwanted instances in dataset\n",
        "data.drop(data.index[(data[\"Emotion\"] == \"guit\")],axis=0,inplace=True)"
      ]
    },
    {
      "cell_type": "code",
      "execution_count": null,
      "metadata": {
        "colab": {
          "base_uri": "https://localhost:8080/",
          "height": 206
        },
        "id": "1q7HjR0Udl-e",
        "outputId": "0dea2b5c-bebd-4c4a-86ec-8e1565b34d19"
      },
      "outputs": [
        {
          "output_type": "execute_result",
          "data": {
            "text/plain": [
              "   index  Emotion                                               Text\n",
              "0   5695      joy  After being depressed because of a very bad re...\n",
              "1    946     fear  In Sweden, a friend and I lived in an appartme...\n",
              "2   5135  disgust  One evening when a boy who was drunk made a pa...\n",
              "3    984  disgust  A series about Freud was shown on TV.  In it, ...\n",
              "4    802     fear  The house was on fire, and I was saved by the ..."
            ],
            "text/html": [
              "\n",
              "  <div id=\"df-f0127908-536c-4519-8d84-f4278a94997c\" class=\"colab-df-container\">\n",
              "    <div>\n",
              "<style scoped>\n",
              "    .dataframe tbody tr th:only-of-type {\n",
              "        vertical-align: middle;\n",
              "    }\n",
              "\n",
              "    .dataframe tbody tr th {\n",
              "        vertical-align: top;\n",
              "    }\n",
              "\n",
              "    .dataframe thead th {\n",
              "        text-align: right;\n",
              "    }\n",
              "</style>\n",
              "<table border=\"1\" class=\"dataframe\">\n",
              "  <thead>\n",
              "    <tr style=\"text-align: right;\">\n",
              "      <th></th>\n",
              "      <th>index</th>\n",
              "      <th>Emotion</th>\n",
              "      <th>Text</th>\n",
              "    </tr>\n",
              "  </thead>\n",
              "  <tbody>\n",
              "    <tr>\n",
              "      <th>0</th>\n",
              "      <td>5695</td>\n",
              "      <td>joy</td>\n",
              "      <td>After being depressed because of a very bad re...</td>\n",
              "    </tr>\n",
              "    <tr>\n",
              "      <th>1</th>\n",
              "      <td>946</td>\n",
              "      <td>fear</td>\n",
              "      <td>In Sweden, a friend and I lived in an appartme...</td>\n",
              "    </tr>\n",
              "    <tr>\n",
              "      <th>2</th>\n",
              "      <td>5135</td>\n",
              "      <td>disgust</td>\n",
              "      <td>One evening when a boy who was drunk made a pa...</td>\n",
              "    </tr>\n",
              "    <tr>\n",
              "      <th>3</th>\n",
              "      <td>984</td>\n",
              "      <td>disgust</td>\n",
              "      <td>A series about Freud was shown on TV.  In it, ...</td>\n",
              "    </tr>\n",
              "    <tr>\n",
              "      <th>4</th>\n",
              "      <td>802</td>\n",
              "      <td>fear</td>\n",
              "      <td>The house was on fire, and I was saved by the ...</td>\n",
              "    </tr>\n",
              "  </tbody>\n",
              "</table>\n",
              "</div>\n",
              "    <div class=\"colab-df-buttons\">\n",
              "\n",
              "  <div class=\"colab-df-container\">\n",
              "    <button class=\"colab-df-convert\" onclick=\"convertToInteractive('df-f0127908-536c-4519-8d84-f4278a94997c')\"\n",
              "            title=\"Convert this dataframe to an interactive table.\"\n",
              "            style=\"display:none;\">\n",
              "\n",
              "  <svg xmlns=\"http://www.w3.org/2000/svg\" height=\"24px\" viewBox=\"0 -960 960 960\">\n",
              "    <path d=\"M120-120v-720h720v720H120Zm60-500h600v-160H180v160Zm220 220h160v-160H400v160Zm0 220h160v-160H400v160ZM180-400h160v-160H180v160Zm440 0h160v-160H620v160ZM180-180h160v-160H180v160Zm440 0h160v-160H620v160Z\"/>\n",
              "  </svg>\n",
              "    </button>\n",
              "\n",
              "  <style>\n",
              "    .colab-df-container {\n",
              "      display:flex;\n",
              "      gap: 12px;\n",
              "    }\n",
              "\n",
              "    .colab-df-convert {\n",
              "      background-color: #E8F0FE;\n",
              "      border: none;\n",
              "      border-radius: 50%;\n",
              "      cursor: pointer;\n",
              "      display: none;\n",
              "      fill: #1967D2;\n",
              "      height: 32px;\n",
              "      padding: 0 0 0 0;\n",
              "      width: 32px;\n",
              "    }\n",
              "\n",
              "    .colab-df-convert:hover {\n",
              "      background-color: #E2EBFA;\n",
              "      box-shadow: 0px 1px 2px rgba(60, 64, 67, 0.3), 0px 1px 3px 1px rgba(60, 64, 67, 0.15);\n",
              "      fill: #174EA6;\n",
              "    }\n",
              "\n",
              "    .colab-df-buttons div {\n",
              "      margin-bottom: 4px;\n",
              "    }\n",
              "\n",
              "    [theme=dark] .colab-df-convert {\n",
              "      background-color: #3B4455;\n",
              "      fill: #D2E3FC;\n",
              "    }\n",
              "\n",
              "    [theme=dark] .colab-df-convert:hover {\n",
              "      background-color: #434B5C;\n",
              "      box-shadow: 0px 1px 3px 1px rgba(0, 0, 0, 0.15);\n",
              "      filter: drop-shadow(0px 1px 2px rgba(0, 0, 0, 0.3));\n",
              "      fill: #FFFFFF;\n",
              "    }\n",
              "  </style>\n",
              "\n",
              "    <script>\n",
              "      const buttonEl =\n",
              "        document.querySelector('#df-f0127908-536c-4519-8d84-f4278a94997c button.colab-df-convert');\n",
              "      buttonEl.style.display =\n",
              "        google.colab.kernel.accessAllowed ? 'block' : 'none';\n",
              "\n",
              "      async function convertToInteractive(key) {\n",
              "        const element = document.querySelector('#df-f0127908-536c-4519-8d84-f4278a94997c');\n",
              "        const dataTable =\n",
              "          await google.colab.kernel.invokeFunction('convertToInteractive',\n",
              "                                                    [key], {});\n",
              "        if (!dataTable) return;\n",
              "\n",
              "        const docLinkHtml = 'Like what you see? Visit the ' +\n",
              "          '<a target=\"_blank\" href=https://colab.research.google.com/notebooks/data_table.ipynb>data table notebook</a>'\n",
              "          + ' to learn more about interactive tables.';\n",
              "        element.innerHTML = '';\n",
              "        dataTable['output_type'] = 'display_data';\n",
              "        await google.colab.output.renderOutput(dataTable, element);\n",
              "        const docLink = document.createElement('div');\n",
              "        docLink.innerHTML = docLinkHtml;\n",
              "        element.appendChild(docLink);\n",
              "      }\n",
              "    </script>\n",
              "  </div>\n",
              "\n",
              "\n",
              "<div id=\"df-89d04b3a-41cd-46f5-801c-c4a73369ec13\">\n",
              "  <button class=\"colab-df-quickchart\" onclick=\"quickchart('df-89d04b3a-41cd-46f5-801c-c4a73369ec13')\"\n",
              "            title=\"Suggest charts\"\n",
              "            style=\"display:none;\">\n",
              "\n",
              "<svg xmlns=\"http://www.w3.org/2000/svg\" height=\"24px\"viewBox=\"0 0 24 24\"\n",
              "     width=\"24px\">\n",
              "    <g>\n",
              "        <path d=\"M19 3H5c-1.1 0-2 .9-2 2v14c0 1.1.9 2 2 2h14c1.1 0 2-.9 2-2V5c0-1.1-.9-2-2-2zM9 17H7v-7h2v7zm4 0h-2V7h2v10zm4 0h-2v-4h2v4z\"/>\n",
              "    </g>\n",
              "</svg>\n",
              "  </button>\n",
              "\n",
              "<style>\n",
              "  .colab-df-quickchart {\n",
              "      --bg-color: #E8F0FE;\n",
              "      --fill-color: #1967D2;\n",
              "      --hover-bg-color: #E2EBFA;\n",
              "      --hover-fill-color: #174EA6;\n",
              "      --disabled-fill-color: #AAA;\n",
              "      --disabled-bg-color: #DDD;\n",
              "  }\n",
              "\n",
              "  [theme=dark] .colab-df-quickchart {\n",
              "      --bg-color: #3B4455;\n",
              "      --fill-color: #D2E3FC;\n",
              "      --hover-bg-color: #434B5C;\n",
              "      --hover-fill-color: #FFFFFF;\n",
              "      --disabled-bg-color: #3B4455;\n",
              "      --disabled-fill-color: #666;\n",
              "  }\n",
              "\n",
              "  .colab-df-quickchart {\n",
              "    background-color: var(--bg-color);\n",
              "    border: none;\n",
              "    border-radius: 50%;\n",
              "    cursor: pointer;\n",
              "    display: none;\n",
              "    fill: var(--fill-color);\n",
              "    height: 32px;\n",
              "    padding: 0;\n",
              "    width: 32px;\n",
              "  }\n",
              "\n",
              "  .colab-df-quickchart:hover {\n",
              "    background-color: var(--hover-bg-color);\n",
              "    box-shadow: 0 1px 2px rgba(60, 64, 67, 0.3), 0 1px 3px 1px rgba(60, 64, 67, 0.15);\n",
              "    fill: var(--button-hover-fill-color);\n",
              "  }\n",
              "\n",
              "  .colab-df-quickchart-complete:disabled,\n",
              "  .colab-df-quickchart-complete:disabled:hover {\n",
              "    background-color: var(--disabled-bg-color);\n",
              "    fill: var(--disabled-fill-color);\n",
              "    box-shadow: none;\n",
              "  }\n",
              "\n",
              "  .colab-df-spinner {\n",
              "    border: 2px solid var(--fill-color);\n",
              "    border-color: transparent;\n",
              "    border-bottom-color: var(--fill-color);\n",
              "    animation:\n",
              "      spin 1s steps(1) infinite;\n",
              "  }\n",
              "\n",
              "  @keyframes spin {\n",
              "    0% {\n",
              "      border-color: transparent;\n",
              "      border-bottom-color: var(--fill-color);\n",
              "      border-left-color: var(--fill-color);\n",
              "    }\n",
              "    20% {\n",
              "      border-color: transparent;\n",
              "      border-left-color: var(--fill-color);\n",
              "      border-top-color: var(--fill-color);\n",
              "    }\n",
              "    30% {\n",
              "      border-color: transparent;\n",
              "      border-left-color: var(--fill-color);\n",
              "      border-top-color: var(--fill-color);\n",
              "      border-right-color: var(--fill-color);\n",
              "    }\n",
              "    40% {\n",
              "      border-color: transparent;\n",
              "      border-right-color: var(--fill-color);\n",
              "      border-top-color: var(--fill-color);\n",
              "    }\n",
              "    60% {\n",
              "      border-color: transparent;\n",
              "      border-right-color: var(--fill-color);\n",
              "    }\n",
              "    80% {\n",
              "      border-color: transparent;\n",
              "      border-right-color: var(--fill-color);\n",
              "      border-bottom-color: var(--fill-color);\n",
              "    }\n",
              "    90% {\n",
              "      border-color: transparent;\n",
              "      border-bottom-color: var(--fill-color);\n",
              "    }\n",
              "  }\n",
              "</style>\n",
              "\n",
              "  <script>\n",
              "    async function quickchart(key) {\n",
              "      const quickchartButtonEl =\n",
              "        document.querySelector('#' + key + ' button');\n",
              "      quickchartButtonEl.disabled = true;  // To prevent multiple clicks.\n",
              "      quickchartButtonEl.classList.add('colab-df-spinner');\n",
              "      try {\n",
              "        const charts = await google.colab.kernel.invokeFunction(\n",
              "            'suggestCharts', [key], {});\n",
              "      } catch (error) {\n",
              "        console.error('Error during call to suggestCharts:', error);\n",
              "      }\n",
              "      quickchartButtonEl.classList.remove('colab-df-spinner');\n",
              "      quickchartButtonEl.classList.add('colab-df-quickchart-complete');\n",
              "    }\n",
              "    (() => {\n",
              "      let quickchartButtonEl =\n",
              "        document.querySelector('#df-89d04b3a-41cd-46f5-801c-c4a73369ec13 button');\n",
              "      quickchartButtonEl.style.display =\n",
              "        google.colab.kernel.accessAllowed ? 'block' : 'none';\n",
              "    })();\n",
              "  </script>\n",
              "</div>\n",
              "\n",
              "    </div>\n",
              "  </div>\n"
            ],
            "application/vnd.google.colaboratory.intrinsic+json": {
              "type": "dataframe",
              "variable_name": "data",
              "summary": "{\n  \"name\": \"data\",\n  \"rows\": 7515,\n  \"fields\": [\n    {\n      \"column\": \"index\",\n      \"properties\": {\n        \"dtype\": \"number\",\n        \"std\": 2169,\n        \"min\": 0,\n        \"max\": 7515,\n        \"num_unique_values\": 7515,\n        \"samples\": [\n          2221,\n          264,\n          5224\n        ],\n        \"semantic_type\": \"\",\n        \"description\": \"\"\n      }\n    },\n    {\n      \"column\": \"Emotion\",\n      \"properties\": {\n        \"dtype\": \"category\",\n        \"num_unique_values\": 7,\n        \"samples\": [\n          \"joy\",\n          \"fear\",\n          \"sadness\"\n        ],\n        \"semantic_type\": \"\",\n        \"description\": \"\"\n      }\n    },\n    {\n      \"column\": \"Text\",\n      \"properties\": {\n        \"dtype\": \"string\",\n        \"num_unique_values\": 7448,\n        \"samples\": [\n          \"My sister lost one of her twin sons (my first nephews) and then  \\nthe older one died a week later.\",\n          \"When my nephew was taken to hospital with meningitis and we did  \\nnot know what would happen.\",\n          \"Listening and watching a tape of someone with AIDS being  \\nprejudiced against at a counselling course on AIDS with 20  \\nothers.\"\n        ],\n        \"semantic_type\": \"\",\n        \"description\": \"\"\n      }\n    }\n  ]\n}"
            }
          },
          "metadata": {},
          "execution_count": 9
        }
      ],
      "source": [
        "data = data.sample(frac=1, random_state=1).reset_index()\n",
        "data.head()"
      ]
    },
    {
      "cell_type": "markdown",
      "metadata": {
        "id": "HAr1ouITt0wm"
      },
      "source": [
        "<h1>Preprocessing, Stemming And Lemming</h1>"
      ]
    },
    {
      "cell_type": "code",
      "execution_count": null,
      "metadata": {
        "id": "xY_GsnGTlLD7"
      },
      "outputs": [],
      "source": [
        "x = []\n",
        "stop_words=set(stopwords.words(\"english\"))\n",
        "ps = PorterStemmer()\n",
        "lem = WordNetLemmatizer()\n",
        "\n",
        "for ent in data['Emotion']:\n",
        "\n",
        "    # Word Tokenization\n",
        "    tokenized_text=word_tokenize(ent)\n",
        "\n",
        "    # StopWord Removal\n",
        "    filtered_sent=[]\n",
        "    for w in tokenized_text:\n",
        "        if w not in stop_words:\n",
        "            filtered_sent.append(w)\n",
        "\n",
        "    # Stemming And Lemming\n",
        "    stemmed_words=[]\n",
        "    lemmed_words=[]\n",
        "    for u in filtered_sent:\n",
        "        stemmed_words.append(ps.stem(u))\n",
        "        lemmed_words.append(lem.lemmatize(u))\n",
        "\n",
        "\n",
        "    # filtering all the punctuations\n",
        "    import string\n",
        "    table = str.maketrans('', '', string.punctuation)\n",
        "    stripped = [v.translate(table) for v in lemmed_words]\n",
        "    words = [word for word in stripped if word.isalpha()]\n",
        "\n",
        "    clean_text = ''\n",
        "    for z in words:\n",
        "        clean_text += ' ' + z\n",
        "\n",
        "    x.append(clean_text)"
      ]
    },
    {
      "cell_type": "code",
      "execution_count": null,
      "metadata": {
        "colab": {
          "base_uri": "https://localhost:8080/",
          "height": 206
        },
        "id": "f7J4-m3-lk5Z",
        "outputId": "d6f67791-f7b7-4724-fb92-ddc75ac85f3b"
      },
      "outputs": [
        {
          "output_type": "execute_result",
          "data": {
            "text/plain": [
              "   index  Emotion                                               Text  \\\n",
              "0   5695      joy  After being depressed because of a very bad re...   \n",
              "1    946     fear  In Sweden, a friend and I lived in an appartme...   \n",
              "2   5135  disgust  One evening when a boy who was drunk made a pa...   \n",
              "3    984  disgust  A series about Freud was shown on TV.  In it, ...   \n",
              "4    802     fear  The house was on fire, and I was saved by the ...   \n",
              "\n",
              "  clean_tweet  tweet_len  \n",
              "0         joy          4  \n",
              "1        fear          5  \n",
              "2     disgust          8  \n",
              "3     disgust          8  \n",
              "4        fear          5  "
            ],
            "text/html": [
              "\n",
              "  <div id=\"df-d9212b18-9a0c-4bd9-a6a2-4f42c72541a3\" class=\"colab-df-container\">\n",
              "    <div>\n",
              "<style scoped>\n",
              "    .dataframe tbody tr th:only-of-type {\n",
              "        vertical-align: middle;\n",
              "    }\n",
              "\n",
              "    .dataframe tbody tr th {\n",
              "        vertical-align: top;\n",
              "    }\n",
              "\n",
              "    .dataframe thead th {\n",
              "        text-align: right;\n",
              "    }\n",
              "</style>\n",
              "<table border=\"1\" class=\"dataframe\">\n",
              "  <thead>\n",
              "    <tr style=\"text-align: right;\">\n",
              "      <th></th>\n",
              "      <th>index</th>\n",
              "      <th>Emotion</th>\n",
              "      <th>Text</th>\n",
              "      <th>clean_tweet</th>\n",
              "      <th>tweet_len</th>\n",
              "    </tr>\n",
              "  </thead>\n",
              "  <tbody>\n",
              "    <tr>\n",
              "      <th>0</th>\n",
              "      <td>5695</td>\n",
              "      <td>joy</td>\n",
              "      <td>After being depressed because of a very bad re...</td>\n",
              "      <td>joy</td>\n",
              "      <td>4</td>\n",
              "    </tr>\n",
              "    <tr>\n",
              "      <th>1</th>\n",
              "      <td>946</td>\n",
              "      <td>fear</td>\n",
              "      <td>In Sweden, a friend and I lived in an appartme...</td>\n",
              "      <td>fear</td>\n",
              "      <td>5</td>\n",
              "    </tr>\n",
              "    <tr>\n",
              "      <th>2</th>\n",
              "      <td>5135</td>\n",
              "      <td>disgust</td>\n",
              "      <td>One evening when a boy who was drunk made a pa...</td>\n",
              "      <td>disgust</td>\n",
              "      <td>8</td>\n",
              "    </tr>\n",
              "    <tr>\n",
              "      <th>3</th>\n",
              "      <td>984</td>\n",
              "      <td>disgust</td>\n",
              "      <td>A series about Freud was shown on TV.  In it, ...</td>\n",
              "      <td>disgust</td>\n",
              "      <td>8</td>\n",
              "    </tr>\n",
              "    <tr>\n",
              "      <th>4</th>\n",
              "      <td>802</td>\n",
              "      <td>fear</td>\n",
              "      <td>The house was on fire, and I was saved by the ...</td>\n",
              "      <td>fear</td>\n",
              "      <td>5</td>\n",
              "    </tr>\n",
              "  </tbody>\n",
              "</table>\n",
              "</div>\n",
              "    <div class=\"colab-df-buttons\">\n",
              "\n",
              "  <div class=\"colab-df-container\">\n",
              "    <button class=\"colab-df-convert\" onclick=\"convertToInteractive('df-d9212b18-9a0c-4bd9-a6a2-4f42c72541a3')\"\n",
              "            title=\"Convert this dataframe to an interactive table.\"\n",
              "            style=\"display:none;\">\n",
              "\n",
              "  <svg xmlns=\"http://www.w3.org/2000/svg\" height=\"24px\" viewBox=\"0 -960 960 960\">\n",
              "    <path d=\"M120-120v-720h720v720H120Zm60-500h600v-160H180v160Zm220 220h160v-160H400v160Zm0 220h160v-160H400v160ZM180-400h160v-160H180v160Zm440 0h160v-160H620v160ZM180-180h160v-160H180v160Zm440 0h160v-160H620v160Z\"/>\n",
              "  </svg>\n",
              "    </button>\n",
              "\n",
              "  <style>\n",
              "    .colab-df-container {\n",
              "      display:flex;\n",
              "      gap: 12px;\n",
              "    }\n",
              "\n",
              "    .colab-df-convert {\n",
              "      background-color: #E8F0FE;\n",
              "      border: none;\n",
              "      border-radius: 50%;\n",
              "      cursor: pointer;\n",
              "      display: none;\n",
              "      fill: #1967D2;\n",
              "      height: 32px;\n",
              "      padding: 0 0 0 0;\n",
              "      width: 32px;\n",
              "    }\n",
              "\n",
              "    .colab-df-convert:hover {\n",
              "      background-color: #E2EBFA;\n",
              "      box-shadow: 0px 1px 2px rgba(60, 64, 67, 0.3), 0px 1px 3px 1px rgba(60, 64, 67, 0.15);\n",
              "      fill: #174EA6;\n",
              "    }\n",
              "\n",
              "    .colab-df-buttons div {\n",
              "      margin-bottom: 4px;\n",
              "    }\n",
              "\n",
              "    [theme=dark] .colab-df-convert {\n",
              "      background-color: #3B4455;\n",
              "      fill: #D2E3FC;\n",
              "    }\n",
              "\n",
              "    [theme=dark] .colab-df-convert:hover {\n",
              "      background-color: #434B5C;\n",
              "      box-shadow: 0px 1px 3px 1px rgba(0, 0, 0, 0.15);\n",
              "      filter: drop-shadow(0px 1px 2px rgba(0, 0, 0, 0.3));\n",
              "      fill: #FFFFFF;\n",
              "    }\n",
              "  </style>\n",
              "\n",
              "    <script>\n",
              "      const buttonEl =\n",
              "        document.querySelector('#df-d9212b18-9a0c-4bd9-a6a2-4f42c72541a3 button.colab-df-convert');\n",
              "      buttonEl.style.display =\n",
              "        google.colab.kernel.accessAllowed ? 'block' : 'none';\n",
              "\n",
              "      async function convertToInteractive(key) {\n",
              "        const element = document.querySelector('#df-d9212b18-9a0c-4bd9-a6a2-4f42c72541a3');\n",
              "        const dataTable =\n",
              "          await google.colab.kernel.invokeFunction('convertToInteractive',\n",
              "                                                    [key], {});\n",
              "        if (!dataTable) return;\n",
              "\n",
              "        const docLinkHtml = 'Like what you see? Visit the ' +\n",
              "          '<a target=\"_blank\" href=https://colab.research.google.com/notebooks/data_table.ipynb>data table notebook</a>'\n",
              "          + ' to learn more about interactive tables.';\n",
              "        element.innerHTML = '';\n",
              "        dataTable['output_type'] = 'display_data';\n",
              "        await google.colab.output.renderOutput(dataTable, element);\n",
              "        const docLink = document.createElement('div');\n",
              "        docLink.innerHTML = docLinkHtml;\n",
              "        element.appendChild(docLink);\n",
              "      }\n",
              "    </script>\n",
              "  </div>\n",
              "\n",
              "\n",
              "<div id=\"df-58b02043-a5ee-41e6-ab2a-4adb3e8844a9\">\n",
              "  <button class=\"colab-df-quickchart\" onclick=\"quickchart('df-58b02043-a5ee-41e6-ab2a-4adb3e8844a9')\"\n",
              "            title=\"Suggest charts\"\n",
              "            style=\"display:none;\">\n",
              "\n",
              "<svg xmlns=\"http://www.w3.org/2000/svg\" height=\"24px\"viewBox=\"0 0 24 24\"\n",
              "     width=\"24px\">\n",
              "    <g>\n",
              "        <path d=\"M19 3H5c-1.1 0-2 .9-2 2v14c0 1.1.9 2 2 2h14c1.1 0 2-.9 2-2V5c0-1.1-.9-2-2-2zM9 17H7v-7h2v7zm4 0h-2V7h2v10zm4 0h-2v-4h2v4z\"/>\n",
              "    </g>\n",
              "</svg>\n",
              "  </button>\n",
              "\n",
              "<style>\n",
              "  .colab-df-quickchart {\n",
              "      --bg-color: #E8F0FE;\n",
              "      --fill-color: #1967D2;\n",
              "      --hover-bg-color: #E2EBFA;\n",
              "      --hover-fill-color: #174EA6;\n",
              "      --disabled-fill-color: #AAA;\n",
              "      --disabled-bg-color: #DDD;\n",
              "  }\n",
              "\n",
              "  [theme=dark] .colab-df-quickchart {\n",
              "      --bg-color: #3B4455;\n",
              "      --fill-color: #D2E3FC;\n",
              "      --hover-bg-color: #434B5C;\n",
              "      --hover-fill-color: #FFFFFF;\n",
              "      --disabled-bg-color: #3B4455;\n",
              "      --disabled-fill-color: #666;\n",
              "  }\n",
              "\n",
              "  .colab-df-quickchart {\n",
              "    background-color: var(--bg-color);\n",
              "    border: none;\n",
              "    border-radius: 50%;\n",
              "    cursor: pointer;\n",
              "    display: none;\n",
              "    fill: var(--fill-color);\n",
              "    height: 32px;\n",
              "    padding: 0;\n",
              "    width: 32px;\n",
              "  }\n",
              "\n",
              "  .colab-df-quickchart:hover {\n",
              "    background-color: var(--hover-bg-color);\n",
              "    box-shadow: 0 1px 2px rgba(60, 64, 67, 0.3), 0 1px 3px 1px rgba(60, 64, 67, 0.15);\n",
              "    fill: var(--button-hover-fill-color);\n",
              "  }\n",
              "\n",
              "  .colab-df-quickchart-complete:disabled,\n",
              "  .colab-df-quickchart-complete:disabled:hover {\n",
              "    background-color: var(--disabled-bg-color);\n",
              "    fill: var(--disabled-fill-color);\n",
              "    box-shadow: none;\n",
              "  }\n",
              "\n",
              "  .colab-df-spinner {\n",
              "    border: 2px solid var(--fill-color);\n",
              "    border-color: transparent;\n",
              "    border-bottom-color: var(--fill-color);\n",
              "    animation:\n",
              "      spin 1s steps(1) infinite;\n",
              "  }\n",
              "\n",
              "  @keyframes spin {\n",
              "    0% {\n",
              "      border-color: transparent;\n",
              "      border-bottom-color: var(--fill-color);\n",
              "      border-left-color: var(--fill-color);\n",
              "    }\n",
              "    20% {\n",
              "      border-color: transparent;\n",
              "      border-left-color: var(--fill-color);\n",
              "      border-top-color: var(--fill-color);\n",
              "    }\n",
              "    30% {\n",
              "      border-color: transparent;\n",
              "      border-left-color: var(--fill-color);\n",
              "      border-top-color: var(--fill-color);\n",
              "      border-right-color: var(--fill-color);\n",
              "    }\n",
              "    40% {\n",
              "      border-color: transparent;\n",
              "      border-right-color: var(--fill-color);\n",
              "      border-top-color: var(--fill-color);\n",
              "    }\n",
              "    60% {\n",
              "      border-color: transparent;\n",
              "      border-right-color: var(--fill-color);\n",
              "    }\n",
              "    80% {\n",
              "      border-color: transparent;\n",
              "      border-right-color: var(--fill-color);\n",
              "      border-bottom-color: var(--fill-color);\n",
              "    }\n",
              "    90% {\n",
              "      border-color: transparent;\n",
              "      border-bottom-color: var(--fill-color);\n",
              "    }\n",
              "  }\n",
              "</style>\n",
              "\n",
              "  <script>\n",
              "    async function quickchart(key) {\n",
              "      const quickchartButtonEl =\n",
              "        document.querySelector('#' + key + ' button');\n",
              "      quickchartButtonEl.disabled = true;  // To prevent multiple clicks.\n",
              "      quickchartButtonEl.classList.add('colab-df-spinner');\n",
              "      try {\n",
              "        const charts = await google.colab.kernel.invokeFunction(\n",
              "            'suggestCharts', [key], {});\n",
              "      } catch (error) {\n",
              "        console.error('Error during call to suggestCharts:', error);\n",
              "      }\n",
              "      quickchartButtonEl.classList.remove('colab-df-spinner');\n",
              "      quickchartButtonEl.classList.add('colab-df-quickchart-complete');\n",
              "    }\n",
              "    (() => {\n",
              "      let quickchartButtonEl =\n",
              "        document.querySelector('#df-58b02043-a5ee-41e6-ab2a-4adb3e8844a9 button');\n",
              "      quickchartButtonEl.style.display =\n",
              "        google.colab.kernel.accessAllowed ? 'block' : 'none';\n",
              "    })();\n",
              "  </script>\n",
              "</div>\n",
              "\n",
              "    </div>\n",
              "  </div>\n"
            ],
            "application/vnd.google.colaboratory.intrinsic+json": {
              "type": "dataframe",
              "variable_name": "data",
              "summary": "{\n  \"name\": \"data\",\n  \"rows\": 7515,\n  \"fields\": [\n    {\n      \"column\": \"index\",\n      \"properties\": {\n        \"dtype\": \"number\",\n        \"std\": 2169,\n        \"min\": 0,\n        \"max\": 7515,\n        \"num_unique_values\": 7515,\n        \"samples\": [\n          2221,\n          264,\n          5224\n        ],\n        \"semantic_type\": \"\",\n        \"description\": \"\"\n      }\n    },\n    {\n      \"column\": \"Emotion\",\n      \"properties\": {\n        \"dtype\": \"category\",\n        \"num_unique_values\": 7,\n        \"samples\": [\n          \"joy\",\n          \"fear\",\n          \"sadness\"\n        ],\n        \"semantic_type\": \"\",\n        \"description\": \"\"\n      }\n    },\n    {\n      \"column\": \"Text\",\n      \"properties\": {\n        \"dtype\": \"string\",\n        \"num_unique_values\": 7448,\n        \"samples\": [\n          \"My sister lost one of her twin sons (my first nephews) and then  \\nthe older one died a week later.\",\n          \"When my nephew was taken to hospital with meningitis and we did  \\nnot know what would happen.\",\n          \"Listening and watching a tape of someone with AIDS being  \\nprejudiced against at a counselling course on AIDS with 20  \\nothers.\"\n        ],\n        \"semantic_type\": \"\",\n        \"description\": \"\"\n      }\n    },\n    {\n      \"column\": \"clean_tweet\",\n      \"properties\": {\n        \"dtype\": \"category\",\n        \"num_unique_values\": 7,\n        \"samples\": [\n          \" joy\",\n          \" fear\",\n          \" sadness\"\n        ],\n        \"semantic_type\": \"\",\n        \"description\": \"\"\n      }\n    },\n    {\n      \"column\": \"tweet_len\",\n      \"properties\": {\n        \"dtype\": \"number\",\n        \"std\": 1,\n        \"min\": 4,\n        \"max\": 8,\n        \"num_unique_values\": 4,\n        \"samples\": [\n          5,\n          6,\n          4\n        ],\n        \"semantic_type\": \"\",\n        \"description\": \"\"\n      }\n    }\n  ]\n}"
            }
          },
          "metadata": {},
          "execution_count": 11
        }
      ],
      "source": [
        "data['clean_tweet'] = x\n",
        "data['tweet_len'] = data['clean_tweet'].apply(len)\n",
        "data.head()"
      ]
    },
    {
      "cell_type": "code",
      "execution_count": null,
      "metadata": {
        "colab": {
          "base_uri": "https://localhost:8080/",
          "height": 509
        },
        "id": "w8vM4z9YzIt2",
        "outputId": "1ef3e5c8-9134-4853-a574-f62def61a233"
      },
      "outputs": [
        {
          "output_type": "execute_result",
          "data": {
            "text/plain": [
              "<Axes: xlabel='Emotion'>"
            ]
          },
          "metadata": {},
          "execution_count": 12
        },
        {
          "output_type": "display_data",
          "data": {
            "text/plain": [
              "<Figure size 640x480 with 1 Axes>"
            ],
            "image/png": "[encoded data removed]"
          },
          "metadata": {}
        }
      ],
      "source": [
        "data['Emotion'].value_counts().plot(kind='bar', stacked=False)"
      ]
    },
    {
      "cell_type": "code",
      "execution_count": null,
      "metadata": {
        "colab": {
          "base_uri": "https://localhost:8080/"
        },
        "id": "unLnykibF6Ft",
        "outputId": "e0db918f-450c-4e83-ceee-8fc57126cc7a"
      },
      "outputs": [
        {
          "output_type": "execute_result",
          "data": {
            "text/plain": [
              "array([' joy', ' fear', ' disgust', ..., ' shame', ' disgust', ' shame'],\n",
              "      dtype=object)"
            ]
          },
          "metadata": {},
          "execution_count": 13
        }
      ],
      "source": [
        "data['clean_tweet'].values"
      ]
    },
    {
      "cell_type": "code",
      "execution_count": null,
      "metadata": {
        "id": "-5o73OGLz-na"
      },
      "outputs": [],
      "source": [
        "max_words = 2000\n",
        "tokenizer = Tokenizer(num_words=max_words, split=' ')\n",
        "tokenizer.fit_on_texts(data['clean_tweet'].values)\n",
        "X = tokenizer.texts_to_sequences(data['clean_tweet'].values)\n",
        "X = pad_sequences(X, maxlen=32)"
      ]
    },
    {
      "cell_type": "markdown",
      "metadata": {
        "id": "YJL-O7jHwDo_"
      },
      "source": [
        "<h3>Test, Train Split</h3>"
      ]
    },
    {
      "cell_type": "code",
      "execution_count": null,
      "metadata": {
        "colab": {
          "base_uri": "https://localhost:8080/"
        },
        "id": "7HHQg9OB0VeO",
        "outputId": "2e9abb84-a300-437b-e9c5-4298eceea205"
      },
      "outputs": [
        {
          "output_type": "stream",
          "name": "stdout",
          "text": [
            "(6012, 32) (6012, 7)\n",
            "(1503, 32) (1503, 7)\n"
          ]
        }
      ],
      "source": [
        "dummies = pd.get_dummies(data['Emotion'])\n",
        "Y = dummies.values\n",
        "X_train, X_test, Y_train, Y_test = train_test_split(X,Y, test_size = 0.2, random_state = 50)\n",
        "print(X_train.shape,Y_train.shape)\n",
        "print(X_test.shape,Y_test.shape)"
      ]
    },
    {
      "cell_type": "code",
      "execution_count": null,
      "metadata": {
        "colab": {
          "base_uri": "https://localhost:8080/"
        },
        "id": "WEDjCsbGHPIK",
        "outputId": "cc122681-e545-4a8d-e390-26af2741d5e0"
      },
      "outputs": [
        {
          "output_type": "execute_result",
          "data": {
            "text/plain": [
              "array([[ True, False, False, False, False, False, False],\n",
              "       [False, False, False, False, False,  True, False],\n",
              "       [ True, False, False, False, False, False, False],\n",
              "       [False, False, False, False,  True, False, False],\n",
              "       [False, False, False, False,  True, False, False],\n",
              "       [ True, False, False, False, False, False, False],\n",
              "       [False, False, False, False,  True, False, False],\n",
              "       [ True, False, False, False, False, False, False],\n",
              "       [False, False, False, False, False, False,  True],\n",
              "       [False, False,  True, False, False, False, False],\n",
              "       [False, False,  True, False, False, False, False],\n",
              "       [False, False, False, False, False, False,  True],\n",
              "       [False, False, False, False, False, False,  True],\n",
              "       [False,  True, False, False, False, False, False]])"
            ]
          },
          "metadata": {},
          "execution_count": 16
        }
      ],
      "source": [
        "Y[-15:-1]"
      ]
    },
    {
      "cell_type": "code",
      "execution_count": null,
      "metadata": {
        "id": "XiJYJwht0cpt",
        "outputId": "aa4334a6-1152-45d6-c6c6-bc9bf215bf4c",
        "colab": {
          "base_uri": "https://localhost:8080/"
        }
      },
      "outputs": [
        {
          "output_type": "stream",
          "name": "stdout",
          "text": [
            "{'joy': 4, 'fear': 2, 'disgust': 1, 'shame': 6, 'anger': 0, 'sadness': 5, 'guilt': 3} {4: 'joy', 2: 'fear', 1: 'disgust', 6: 'shame', 0: 'anger', 5: 'sadness', 3: 'guilt'}\n"
          ]
        }
      ],
      "source": [
        "dict_emotion = {}\n",
        "dict_label = {}\n",
        "for i in range(len(Y)):\n",
        "    dict_emotion[data['Emotion'][i]] = np.argmax(Y[i])\n",
        "    dict_label[np.argmax(Y[i])] = data['Emotion'][i]\n",
        "    if len(dict_emotion) == 13:\n",
        "        print('Break at: ', i)\n",
        "        break\n",
        "\n",
        "print(dict_emotion, dict_label)"
      ]
    },
    {
      "cell_type": "code",
      "execution_count": null,
      "metadata": {
        "id": "acyuomIN0j4z"
      },
      "outputs": [],
      "source": [
        "X_val = X_train[:5000]\n",
        "Y_val = Y_train[:5000]\n",
        "partial_X_train = X_train[5000:]\n",
        "partial_Y_train = Y_train[5000:]"
      ]
    },
    {
      "cell_type": "code",
      "execution_count": null,
      "metadata": {
        "colab": {
          "base_uri": "https://localhost:8080/"
        },
        "id": "uc3AcCW2L0RN",
        "outputId": "6044c0f6-b6e8-4ed4-bb99-7c99f8999b38"
      },
      "outputs": [
        {
          "output_type": "stream",
          "name": "stdout",
          "text": [
            "(6012, 32) (6012, 7)\n",
            "(1503, 32) (1503, 7)\n"
          ]
        }
      ],
      "source": [
        "X_train = X_train.reshape(X_train.shape[0], X_train.shape[1])\n",
        "X_test = X_test.reshape(X_test.shape[0], X_test.shape[1])\n",
        "print(X_train.shape,Y_train.shape)\n",
        "print(X_test.shape,Y_test.shape)"
      ]
    },
    {
      "cell_type": "markdown",
      "metadata": {
        "id": "hk69ix1kvWru"
      },
      "source": [
        "<h2>Hyperparameter Adjustment and Model Initialisation</h2>"
      ]
    },
    {
      "cell_type": "code",
      "execution_count": null,
      "metadata": {
        "id": "aRv680w00P5J"
      },
      "outputs": [],
      "source": [
        "embedding_out_dim = 256\n",
        "lstm_out_dim = 256\n",
        "#print(X.shape[1])     32\n",
        "model = Sequential()\n",
        "model.add(Embedding(max_words, embedding_out_dim))\n",
        "model.add(LSTM(lstm_out_dim,  return_sequences=False))\n",
        "model.add(Dense(7,activation='softmax'))\n",
        "model.compile(loss = 'categorical_crossentropy', optimizer='adam',metrics = ['accuracy'])\n",
        "#print(model.summary())"
      ]
    },
    {
      "cell_type": "markdown",
      "metadata": {
        "id": "hPJMcM7DwVMd"
      },
      "source": [
        "<h2>Fitting the Model and Validation</h2>"
      ]
    },
    {
      "cell_type": "code",
      "execution_count": null,
      "metadata": {
        "colab": {
          "base_uri": "https://localhost:8080/"
        },
        "id": "O-3C-Js20ys7",
        "outputId": "e856e643-9184-4c50-c6d4-e8097561d18e"
      },
      "outputs": [
        {
          "output_type": "stream",
          "name": "stdout",
          "text": [
            "(6012, 32)\n",
            "(6012, 7)\n",
            "Epoch 1/2\n",
            "\u001b[1m94/94\u001b[0m \u001b[32m━━━━━━━━━━━━━━━━━━━━\u001b[0m\u001b[37m\u001b[0m \u001b[1m46s\u001b[0m 432ms/step - accuracy: 0.7396 - loss: 1.0747 - val_accuracy: 1.0000 - val_loss: 5.1931e-04\n",
            "Epoch 2/2\n",
            "\u001b[1m94/94\u001b[0m \u001b[32m━━━━━━━━━━━━━━━━━━━━\u001b[0m\u001b[37m\u001b[0m \u001b[1m27s\u001b[0m 285ms/step - accuracy: 1.0000 - loss: 4.4831e-04 - val_accuracy: 1.0000 - val_loss: 3.0916e-04\n"
          ]
        }
      ],
      "source": [
        "\n",
        "print(X_train.shape)\n",
        "print(Y_train.shape)\n",
        "\n",
        "batch_size = 64\n",
        "history = model.fit(X_train,Y_train, epochs = 2, batch_size=batch_size, validation_data=(X_val, Y_val))"
      ]
    },
    {
      "cell_type": "code",
      "execution_count": null,
      "metadata": {
        "id": "61Q2dweLxx7C",
        "colab": {
          "base_uri": "https://localhost:8080/"
        },
        "outputId": "9a0429a3-ed7c-4731-d1b5-e6457d241b37"
      },
      "outputs": [
        {
          "output_type": "stream",
          "name": "stderr",
          "text": [
            "WARNING:absl:You are saving your model as an HDF5 file via `model.save()` or `keras.saving.save_model(model)`. This file format is considered legacy. We recommend using instead the native Keras format, e.g. `model.save('my_model.keras')` or `keras.saving.save_model(model, 'my_model.keras')`. \n"
          ]
        }
      ],
      "source": [
        "# # # Save the model\n",
        "model.save('SentimentAnalyser.h5')"
      ]
    },
    {
      "cell_type": "code",
      "execution_count": null,
      "metadata": {
        "id": "tJa5vI2svXuH",
        "colab": {
          "base_uri": "https://localhost:8080/"
        },
        "outputId": "e3789baf-064e-4fb3-dc6a-33ebcc4c82b9"
      },
      "outputs": [
        {
          "output_type": "stream",
          "name": "stderr",
          "text": [
            "WARNING:absl:Compiled the loaded model, but the compiled metrics have yet to be built. `model.compile_metrics` will be empty until you train or evaluate the model.\n"
          ]
        }
      ],
      "source": [
        "from keras.models import load_model\n",
        "\n",
        "model = load_model('SentimentAnalyser.h5')"
      ]
    },
    {
      "cell_type": "code",
      "execution_count": null,
      "metadata": {
        "id": "t-o512OG06nh",
        "outputId": "ac7b6e93-f192-48b3-f4a0-58b947d20256",
        "colab": {
          "base_uri": "https://localhost:8080/",
          "height": 472
        }
      },
      "outputs": [
        {
          "output_type": "display_data",
          "data": {
            "text/plain": [
              "<Figure size 640x480 with 1 Axes>"
            ],
            "image/png": "[encoded data removed]"
          },
          "metadata": {}
        }
      ],
      "source": [
        "import matplotlib.pyplot as plt\n",
        "\n",
        "loss = history.history['loss']\n",
        "val_loss = history.history['val_loss']\n",
        "epochs = range(1, len(loss) + 1)\n",
        "plt.plot(epochs, loss, 'r', label='Training loss')\n",
        "plt.plot(epochs, val_loss, 'b', label='Validation loss')\n",
        "plt.title('Training and validation loss')\n",
        "plt.xlabel('Epochs')\n",
        "plt.ylabel('Loss')\n",
        "plt.legend()\n",
        "plt.show()"
      ]
    },
    {
      "cell_type": "code",
      "execution_count": null,
      "metadata": {
        "id": "xJMuH02Y_BDL",
        "outputId": "1da4ad1e-894e-4ab2-a8a2-e5064f2c3081",
        "colab": {
          "base_uri": "https://localhost:8080/"
        }
      },
      "outputs": [
        {
          "output_type": "stream",
          "name": "stdout",
          "text": [
            "\u001b[1m47/47\u001b[0m \u001b[32m━━━━━━━━━━━━━━━━━━━━\u001b[0m\u001b[37m\u001b[0m \u001b[1m2s\u001b[0m 41ms/step\n"
          ]
        }
      ],
      "source": [
        "predict = model.predict(X_test)"
      ]
    },
    {
      "cell_type": "code",
      "execution_count": null,
      "metadata": {
        "id": "F0igyVvhvXuI"
      },
      "outputs": [],
      "source": []
    },
    {
      "cell_type": "code",
      "execution_count": null,
      "metadata": {
        "id": "DVBB5Eoq_CDD"
      },
      "outputs": [],
      "source": [
        "emotion_Y_predicted = np.zeros(predict.shape)\n",
        "\n",
        "for i in range (0,len(predict)):\n",
        "    u = predict[i]\n",
        "    v = np.argmax(u)\n",
        "    emotion_Y_predicted[i][v] = 1"
      ]
    },
    {
      "cell_type": "code",
      "execution_count": null,
      "metadata": {
        "id": "r_YxOkmA_F3a"
      },
      "outputs": [],
      "source": [
        "correct_count = 0\n",
        "total_count = 0\n",
        "\n",
        "for j in range(0, predict.shape[0]):\n",
        "\n",
        "    total_count += 1\n",
        "\n",
        "    if np.array_equal(Y_test[j], emotion_Y_predicted[j]) == True:\n",
        "\n",
        "        correct_count += 1"
      ]
    },
    {
      "cell_type": "code",
      "execution_count": null,
      "metadata": {
        "id": "OG7EZKkK_Ivx",
        "outputId": "8479dbe3-9f92-4723-9769-448a0db2554f",
        "colab": {
          "base_uri": "https://localhost:8080/"
        }
      },
      "outputs": [
        {
          "output_type": "stream",
          "name": "stdout",
          "text": [
            "Correct Count :  1503\n",
            "\n",
            "Total Count :  1503\n"
          ]
        }
      ],
      "source": [
        "print(\"Correct Count : \", correct_count)\n",
        "print(\"\\nTotal Count : \", total_count)"
      ]
    },
    {
      "cell_type": "code",
      "execution_count": null,
      "metadata": {
        "id": "3dLY20td_LrG",
        "outputId": "9a90fa24-93c6-4d28-846e-e180685f18f2",
        "colab": {
          "base_uri": "https://localhost:8080/"
        }
      },
      "outputs": [
        {
          "output_type": "stream",
          "name": "stdout",
          "text": [
            "Accuracy Score :  1.0\n",
            "F1 Score :  1.0\n"
          ]
        }
      ],
      "source": [
        "from sklearn.metrics import accuracy_score, f1_score\n",
        "\n",
        "print(\"Accuracy Score : \", accuracy_score(Y_test, emotion_Y_predicted ))\n",
        "print(\"F1 Score : \", f1_score(Y_test, emotion_Y_predicted, average='weighted' ))"
      ]
    },
    {
      "cell_type": "code",
      "execution_count": null,
      "metadata": {
        "id": "P11-E4zR0Fcl"
      },
      "outputs": [],
      "source": [
        "def preprocess(input):\n",
        "    words = word_tokenize(input)\n",
        "    stop_removed_words = []\n",
        "    punc_removed_words = []\n",
        "    lemmed_words = []\n",
        "\n",
        "    for word in words:\n",
        "        if word not in stop_words:\n",
        "            stop_removed_words.append(word)\n",
        "\n",
        "    table1 = str.maketrans('', '', string.punctuation)\n",
        "    stripped = [v.translate(table1) for v in stop_removed_words]\n",
        "    punc_removed_words = [word for word in stripped if word.isalpha()]\n",
        "\n",
        "    for pun_word in punc_removed_words:\n",
        "        lemmed_words.append(lem.lemmatize(pun_word))\n",
        "\n",
        "    clean_text = ''\n",
        "    for z in lemmed_words:\n",
        "        clean_text += ' ' + z\n",
        "\n",
        "    return clean_text"
      ]
    },
    {
      "cell_type": "code",
      "execution_count": null,
      "metadata": {
        "id": "1ZEPDNTkZzqn"
      },
      "outputs": [],
      "source": [
        "final_obj = []\n",
        "final_emotion = 'NILL'\n",
        "def getInput(ud):\n",
        "\n",
        "    final_obj.clear()\n",
        "\n",
        "    for i in ud:\n",
        "        final = preprocess(i)\n",
        "        final_obj.append(final)\n",
        "\n",
        "    new_tokenizer = Tokenizer(num_words=max_words, split=' ')\n",
        "    new_tokenizer.fit_on_texts(final_obj)\n",
        "\n",
        "    X_input = new_tokenizer.texts_to_sequences(final_obj)\n",
        "\n",
        "    X_input = pad_sequences(X_input, maxlen=32)\n",
        "\n",
        "    emotion_dataset_dummies = pd.get_dummies(data['Emotion'])\n",
        "    emotion_dataset_Y = emotion_dataset_dummies.values\n",
        "\n",
        "    predict = model.predict(X_input)\n",
        "\n",
        "    print(predict)\n",
        "\n",
        "    np.save(\"text_emotion.npy\", predict)\n",
        "\n",
        "    emotion_Y_predicted = np.zeros(predict.shape)\n",
        "\n",
        "    for i in range (0,len(predict)):\n",
        "        u = predict[i]\n",
        "        v = np.argmax(u)\n",
        "        emotion_Y_predicted[i][v] = 1\n",
        "\n",
        "    final_emotion = dict_label.get(v)\n",
        "    print(final_emotion)"
      ]
    },
    {
      "cell_type": "code",
      "execution_count": null,
      "metadata": {
        "colab": {
          "base_uri": "https://localhost:8080/"
        },
        "id": "35t7HRKoa7IS",
        "outputId": "cbb2e84c-0e1e-43f6-945e-10048c861007"
      },
      "outputs": [
        {
          "output_type": "stream",
          "name": "stdout",
          "text": [
            "\u001b[1m1/1\u001b[0m \u001b[32m━━━━━━━━━━━━━━━━━━━━\u001b[0m\u001b[37m\u001b[0m \u001b[1m0s\u001b[0m 76ms/step\n",
            "[[0.04053969 0.08318337 0.1142207  0.11388609 0.44388852 0.02579246\n",
            "  0.17848918]]\n",
            "joy\n"
          ]
        }
      ],
      "source": [
        "filename = 'extracted_text.txt'\n",
        "\n",
        "with open(filename, 'r') as file:\n",
        "    file_contents = file.read()\n",
        "\n",
        "ud = []\n",
        "\n",
        "ud.append(file_contents)\n",
        "getInput(ud)"
      ]
    },
    {
      "cell_type": "code",
      "execution_count": null,
      "metadata": {
        "colab": {
          "base_uri": "https://localhost:8080/"
        },
        "id": "_ilNTQYbwOZG",
        "outputId": "76df74e0-d69f-40aa-919b-11df6320852a"
      },
      "outputs": [
        {
          "output_type": "stream",
          "name": "stdout",
          "text": [
            "Input  :   \n",
            "Output :  joy \n",
            "\n",
            "\n"
          ]
        }
      ],
      "source": [
        "print(\"Input  : \" , final_obj[0], \"\\nOutput : \", dict_label.get(np.argmax(emotion_Y_predicted[0])), \"\\n\\n\" )"
      ]
    },
    {
      "cell_type": "code",
      "execution_count": null,
      "metadata": {
        "id": "g7WqrB-_dNmR",
        "outputId": "c4a6e3a3-9bb5-4e07-e10e-58a9a1c59475",
        "colab": {
          "base_uri": "https://localhost:8080/"
        }
      },
      "outputs": [
        {
          "output_type": "stream",
          "name": "stdout",
          "text": [
            "Classified Emotion:  joy\n"
          ]
        }
      ],
      "source": [
        "print(\"Classified Emotion: \", dict_label.get(np.argmax(emotion_Y_predicted[0])));"
      ]
    },
    {
      "cell_type": "code",
      "execution_count": null,
      "metadata": {
        "id": "cubN9fdOvXuM"
      },
      "outputs": [],
      "source": []
    }
  ],
  "metadata": {
    "colab": {
      "provenance": [],
      "include_colab_link": true
    },
    "kernelspec": {
      "display_name": "Python 3 (ipykernel)",
      "language": "python",
      "name": "python3"
    },
    "language_info": {
      "codemirror_mode": {
        "name": "ipython",
        "version": 3
      },
      "file_extension": ".py",
      "mimetype": "text/x-python",
      "name": "python",
      "nbconvert_exporter": "python",
      "pygments_lexer": "ipython3",
      "version": "3.9.12"
    }
  },
  "nbformat": 4,
  "nbformat_minor": 0
}